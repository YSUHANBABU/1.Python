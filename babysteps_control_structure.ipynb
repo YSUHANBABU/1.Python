{
 "cells": [
  {
   "cell_type": "code",
   "execution_count": 1,
   "id": "370e0e4b-33e3-4559-ade8-f79b2cae3431",
   "metadata": {},
   "outputs": [
    {
     "name": "stdout",
     "output_type": "stream",
     "text": [
      "Welcome to Assignment-1\n"
     ]
    }
   ],
   "source": [
    "print(\"Welcome to Assignment-1\")"
   ]
  },
  {
   "cell_type": "markdown",
   "id": "a6049a63-865e-4568-b154-c99c353c6618",
   "metadata": {},
   "source": [
    "#Welcome to Assignment-1"
   ]
  },
  {
   "cell_type": "code",
   "execution_count": 3,
   "id": "8f21fa39-e3d6-4183-ab10-b2b233cec2da",
   "metadata": {},
   "outputs": [
    {
     "name": "stdout",
     "output_type": "stream",
     "text": [
      "Num1= 10\n",
      "Num2= 30\n",
      "Add= 40\n"
     ]
    }
   ],
   "source": [
    "Num1=10\n",
    "Num2=30\n",
    "Add=Num1+Num2\n",
    "print(\"Num1=\",Num1)\n",
    "print(\"Num2=\",Num2)\n",
    "print(\"Add=\",Add)"
   ]
  },
  {
   "cell_type": "markdown",
   "id": "4169abec-2e38-4272-808c-0d6e2d535051",
   "metadata": {},
   "source": [
    "Num1= 10\n",
    "Num2= 30\n",
    "Add= 40"
   ]
  },
  {
   "cell_type": "code",
   "execution_count": 8,
   "id": "87cf10bd-6feb-4610-a356-0f47fbbdb185",
   "metadata": {},
   "outputs": [
    {
     "name": "stdin",
     "output_type": "stream",
     "text": [
      "Enter your Weight : 80\n",
      "Enter your height in metre : 1.75\n"
     ]
    }
   ],
   "source": [
    "weight=float(input(\"Enter your Weight :\"))\n",
    "height=float(input(\"Enter your height in metre :\"))\n",
    "BMI=weight/(height*height)"
   ]
  },
  {
   "cell_type": "code",
   "execution_count": 9,
   "id": "08094169-8439-46e1-a8e1-97b81d2de306",
   "metadata": {},
   "outputs": [
    {
     "name": "stdout",
     "output_type": "stream",
     "text": [
      "your BMI index is 26.122448979591837\n",
      "over weight\n"
     ]
    }
   ],
   "source": [
    "if BMI<18:\n",
    "    print(\"your BMI index is\",BMI)\n",
    "    print(\"under Weight\")\n",
    "elif BMI<24:\n",
    "    print(\"your BMI index is\",BMI)\n",
    "    print(\"your weight is ideal\")\n",
    "elif BMI<30:\n",
    "    print(\"your BMI index is\",BMI)\n",
    "    print(\"over weight\")\n",
    "else:\n",
    "    print(\"your BMI index is\",BMI)\n",
    "    print(\"very Over weight\")"
   ]
  },
  {
   "cell_type": "code",
   "execution_count": null,
   "id": "8e3af3be-69c1-4f5d-87fd-02245c5b7158",
   "metadata": {},
   "outputs": [],
   "source": [
    "Enter the BMI Index:34\n",
    "Very Overweight"
   ]
  }
 ],
 "metadata": {
  "kernelspec": {
   "display_name": "Python 3 (ipykernel)",
   "language": "python",
   "name": "python3"
  },
  "language_info": {
   "codemirror_mode": {
    "name": "ipython",
    "version": 3
   },
   "file_extension": ".py",
   "mimetype": "text/x-python",
   "name": "python",
   "nbconvert_exporter": "python",
   "pygments_lexer": "ipython3",
   "version": "3.11.10"
  }
 },
 "nbformat": 4,
 "nbformat_minor": 5
}
