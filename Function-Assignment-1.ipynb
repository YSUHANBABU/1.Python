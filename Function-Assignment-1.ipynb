{
 "cells": [
  {
   "cell_type": "code",
   "execution_count": 1,
   "id": "6c2ddfe9-1f34-4f68-a84f-3afc5454e929",
   "metadata": {},
   "outputs": [],
   "source": [
    "# Create a class and function, and list out the items in the list"
   ]
  },
  {
   "cell_type": "code",
   "execution_count": 24,
   "id": "bbc9ed10-6d85-477e-99f7-b64db2282218",
   "metadata": {},
   "outputs": [],
   "source": [
    "lists=[\"Machine Learning\",\"Neural Networks\",\"Vision\",\"Robotics\",\"Speech Processing\",\"Natural Language Processing\"]\n",
    "#class SubfieldsInAI:\n",
    "def subfields():\n",
    "    print(\"subfields in AI are\")\n",
    "    for i in lists:\n",
    "        print(i)"
   ]
  },
  {
   "cell_type": "code",
   "execution_count": 3,
   "id": "7a003b3a-a8e6-4444-9149-55b587bf0d31",
   "metadata": {},
   "outputs": [],
   "source": [
    "#SubfieldsInAI.subfields()"
   ]
  },
  {
   "cell_type": "code",
   "execution_count": 25,
   "id": "57d8fd24-e700-4f82-942e-e3df3b352e22",
   "metadata": {},
   "outputs": [
    {
     "name": "stdout",
     "output_type": "stream",
     "text": [
      "subfields in AI are\n",
      "Machine Learning\n",
      "Neural Networks\n",
      "Vision\n",
      "Robotics\n",
      "Speech Processing\n",
      "Natural Language Processing\n"
     ]
    }
   ],
   "source": [
    "subfields()"
   ]
  },
  {
   "cell_type": "code",
   "execution_count": 5,
   "id": "c5d4be27-ee0d-40c7-86fb-663c532445fa",
   "metadata": {},
   "outputs": [],
   "source": [
    "# Create a function that checks whether the given number is Odd or Even"
   ]
  },
  {
   "cell_type": "code",
   "execution_count": 6,
   "id": "e7b8fa31-9be6-4396-8d2e-33eec18c01cc",
   "metadata": {},
   "outputs": [],
   "source": [
    "def OddEven():\n",
    "    num=int(input(\"Enter the number :\"))\n",
    "    if num%2==0:\n",
    "            print(num,\"is even\")\n",
    "    else:\n",
    "            print(num,\"is odd\")\n",
    "            \n",
    "            \n",
    "    "
   ]
  },
  {
   "cell_type": "code",
   "execution_count": 7,
   "id": "3283c0e4-5f9c-4211-9857-974bbdf2d9ce",
   "metadata": {},
   "outputs": [
    {
     "name": "stdin",
     "output_type": "stream",
     "text": [
      "Enter the number : 52452\n"
     ]
    },
    {
     "name": "stdout",
     "output_type": "stream",
     "text": [
      "52452 is even\n"
     ]
    }
   ],
   "source": [
    "OddEven()"
   ]
  },
  {
   "cell_type": "code",
   "execution_count": 8,
   "id": "7d29ad67-25e8-4d74-9c34-5385442b982d",
   "metadata": {},
   "outputs": [],
   "source": [
    "# Create a function that tells elegibility of marriage for male and female\n",
    "# according to their age limit like 21 for male and 18 for female"
   ]
  },
  {
   "cell_type": "code",
   "execution_count": 9,
   "id": "9235a0f8-a003-4d52-9c48-f3eca4752bb7",
   "metadata": {},
   "outputs": [],
   "source": [
    "#class ElegiblityForMarriage:\n",
    "def Elegible():\n",
    "    age=int(input(\"Enter Your Age \"))\n",
    "    gender=input(\"Enter Male or female, 'M' for Male and 'F' for female:\")\n",
    "    if gender==\"M\" and age>=21:\n",
    "        print(\"Your gender is:\",age)\n",
    "        print(\"Your age is:\",age)\n",
    "        print(\"Elegible for  Marriage\")\n",
    "    elif gender==\"F\" and age>=18:\n",
    "        print(\"Your gender is:\",age)\n",
    "        print(\"Your age is:\",age)\n",
    "        print(\"Elegible for  Marriage\")\n",
    "    else:\n",
    "        print(\"Your gender is:\",age)\n",
    "        print(\"Your age is:\",age)\n",
    "        print(\"Not Elegible for Marriage\")\n",
    "            "
   ]
  },
  {
   "cell_type": "code",
   "execution_count": 10,
   "id": "31460aa6-6d4b-4e6d-a21c-e00ec0726f1f",
   "metadata": {},
   "outputs": [
    {
     "name": "stdin",
     "output_type": "stream",
     "text": [
      "Enter Your Age  20\n",
      "Enter Male or female, 'M' for Male and 'F' for female: M\n"
     ]
    },
    {
     "name": "stdout",
     "output_type": "stream",
     "text": [
      "Your gender is: 20\n",
      "Your age is: 20\n",
      "Not Elegible for Marriage\n"
     ]
    }
   ],
   "source": [
    "Elegible()"
   ]
  },
  {
   "cell_type": "code",
   "execution_count": 11,
   "id": "12149a1e-a76b-42af-9f29-de6a11f39a26",
   "metadata": {},
   "outputs": [],
   "source": [
    "# calculate the percentage of your 10th mark"
   ]
  },
  {
   "cell_type": "code",
   "execution_count": 12,
   "id": "251c717f-d3cf-4f10-9a75-dd91dd27673c",
   "metadata": {},
   "outputs": [],
   "source": [
    "#class FindPercent:\n",
    "def percentage():\n",
    "    subject1=int(input(\"Enter the marks: \"))\n",
    "    subject2=int(input(\"Enter the marks: \"))\n",
    "    subject3=int(input(\"Enter the marks: \"))\n",
    "    subject4=int(input(\"Enter the marks: \"))\n",
    "    subject5=int(input(\"Enter the marks: \"))\n",
    "    total=subject1+subject2+subject3+subject4+subject5\n",
    "    percentage=float(total/500)*100\n",
    "    print(\"Total is:\",total)\n",
    "    print(\"Percentage is \",percentage)  "
   ]
  },
  {
   "cell_type": "code",
   "execution_count": 13,
   "id": "ee8a8519-8c23-4ef0-8d3f-df04ee64cecc",
   "metadata": {},
   "outputs": [
    {
     "name": "stdin",
     "output_type": "stream",
     "text": [
      "Enter the marks:  98\n",
      "Enter the marks:  87\n",
      "Enter the marks:  95\n",
      "Enter the marks:  95\n",
      "Enter the marks:  93\n"
     ]
    },
    {
     "name": "stdout",
     "output_type": "stream",
     "text": [
      "Total is: 468\n",
      "Percentage is  93.60000000000001\n"
     ]
    }
   ],
   "source": [
    "percentage()"
   ]
  },
  {
   "cell_type": "code",
   "execution_count": 22,
   "id": "9c232a5a-01e0-4948-9924-2edd533c7631",
   "metadata": {},
   "outputs": [],
   "source": [
    "def triangle():\n",
    "    Height=int(input(\"Height: \"))\n",
    "    Breadth=int(input(\"Breadth: \"))\n",
    "    print(\"Area formula (Height*Breadth)/2\")\n",
    "    area=(Height*Breadth)/2\n",
    "    print(\"Area of triangle is :\",area)\n",
    "    Height1=int(input(\"height1: \"))\n",
    "    Height2=int(input(\"height2: \"))\n",
    "    Breadth=int(input(\"Breadth: \"))\n",
    "    print(\"Perimeterformula:Height1+Height2+Breadth\")\n",
    "    Perimeterformula=Height1+Height2+Breadth\n",
    "    print(\"Perimeter of triangle  :\",Perimeterformula)"
   ]
  },
  {
   "cell_type": "code",
   "execution_count": 23,
   "id": "57dc5f23-3320-4e32-aafa-c9019b8b1dd3",
   "metadata": {},
   "outputs": [
    {
     "name": "stdin",
     "output_type": "stream",
     "text": [
      "Height:  32\n",
      "Breadth:  34\n"
     ]
    },
    {
     "name": "stdout",
     "output_type": "stream",
     "text": [
      "Area formula (Height*Breadth)/2\n",
      "Area of triangle is : 544.0\n"
     ]
    },
    {
     "name": "stdin",
     "output_type": "stream",
     "text": [
      "height1:  2\n",
      "height2:  4\n",
      "Breadth:  4\n"
     ]
    },
    {
     "name": "stdout",
     "output_type": "stream",
     "text": [
      "Perimeterformula:Height1+Height2+Breadth\n",
      "Perimeter of triangle  : 10\n"
     ]
    }
   ],
   "source": [
    "triangle()"
   ]
  },
  {
   "cell_type": "code",
   "execution_count": null,
   "id": "a015ccdb-c56f-40ab-8b2e-d1d538672f99",
   "metadata": {},
   "outputs": [],
   "source": []
  }
 ],
 "metadata": {
  "kernelspec": {
   "display_name": "Python 3 (ipykernel)",
   "language": "python",
   "name": "python3"
  },
  "language_info": {
   "codemirror_mode": {
    "name": "ipython",
    "version": 3
   },
   "file_extension": ".py",
   "mimetype": "text/x-python",
   "name": "python",
   "nbconvert_exporter": "python",
   "pygments_lexer": "ipython3",
   "version": "3.11.10"
  }
 },
 "nbformat": 4,
 "nbformat_minor": 5
}
