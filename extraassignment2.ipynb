{
 "cells": [
  {
   "cell_type": "code",
   "execution_count": 1,
   "id": "352a5488-2279-4770-ac00-f47793e02f26",
   "metadata": {},
   "outputs": [],
   "source": [
    "# print 0 to 20 by using range"
   ]
  },
  {
   "cell_type": "code",
   "execution_count": 2,
   "id": "3988394b-fa4e-4795-84b7-f2cd4cd4d0f0",
   "metadata": {},
   "outputs": [
    {
     "name": "stdout",
     "output_type": "stream",
     "text": [
      "0\n",
      "1\n",
      "2\n",
      "3\n",
      "4\n",
      "5\n",
      "6\n",
      "7\n",
      "8\n",
      "9\n",
      "10\n",
      "11\n",
      "12\n",
      "13\n",
      "14\n",
      "15\n",
      "16\n",
      "17\n",
      "18\n",
      "19\n",
      "20\n"
     ]
    }
   ],
   "source": [
    "for i in range(0,21):\n",
    "    print(i)"
   ]
  },
  {
   "cell_type": "code",
   "execution_count": 3,
   "id": "426f873f-10e9-4aa0-8271-a5c96446dcd8",
   "metadata": {},
   "outputs": [],
   "source": [
    "# print range 10 to 20"
   ]
  },
  {
   "cell_type": "code",
   "execution_count": 3,
   "id": "9ef14b7a-e52d-4bda-907f-02638685411d",
   "metadata": {},
   "outputs": [
    {
     "name": "stdout",
     "output_type": "stream",
     "text": [
      "10\n",
      "11\n",
      "12\n",
      "13\n",
      "14\n",
      "15\n",
      "16\n",
      "17\n",
      "18\n",
      "19\n",
      "20\n"
     ]
    }
   ],
   "source": [
    "for i in range(10,21):\n",
    "    print(i)"
   ]
  },
  {
   "cell_type": "code",
   "execution_count": 5,
   "id": "66b2aca7-dbcc-482a-9c62-6cdb8ba53cce",
   "metadata": {},
   "outputs": [],
   "source": [
    "# Print number of items in the list by using 'len'"
   ]
  },
  {
   "cell_type": "code",
   "execution_count": 10,
   "id": "196e8ef5-0fe9-462e-900c-ad98fa1360c6",
   "metadata": {},
   "outputs": [
    {
     "name": "stdout",
     "output_type": "stream",
     "text": [
      "Number of item in the List2:\n"
     ]
    },
    {
     "data": {
      "text/plain": [
       "7"
      ]
     },
     "execution_count": 10,
     "metadata": {},
     "output_type": "execute_result"
    }
   ],
   "source": [
    "list2=[10, 20, 14, 55, 43, 87, 76]\n",
    "print(\"Number of item in the List2:\")\n",
    "len(list2)"
   ]
  },
  {
   "cell_type": "code",
   "execution_count": 11,
   "id": "456334aa-1b48-4f48-8078-fc8c6390a00c",
   "metadata": {},
   "outputs": [],
   "source": [
    "#Artificial Intelligence"
   ]
  },
  {
   "cell_type": "code",
   "execution_count": 1,
   "id": "9e9bb758-cd78-42f9-9306-8019f0070c11",
   "metadata": {},
   "outputs": [
    {
     "name": "stdout",
     "output_type": "stream",
     "text": [
      "A\n",
      "r\n",
      "t\n",
      "i\n",
      "f\n",
      "i\n",
      "c\n",
      "i\n",
      "a\n",
      "l\n",
      " \n",
      "I\n",
      "n\n",
      "t\n",
      "e\n",
      "l\n",
      "l\n",
      "i\n",
      "g\n",
      "e\n",
      "n\n",
      "c\n",
      "e\n"
     ]
    }
   ],
   "source": [
    "text=\"Artificial Intelligence\"\n",
    "for i in text:\n",
    "    print(i)"
   ]
  },
  {
   "cell_type": "code",
   "execution_count": 14,
   "id": "ea8b6d5d-0f5b-4e31-9a8a-3bd48ea253b0",
   "metadata": {},
   "outputs": [
    {
     "name": "stdin",
     "output_type": "stream",
     "text": [
      "Enter Your Name suhan\n",
      "Enter your Age 37\n",
      "enter your Profession teacher\n"
     ]
    }
   ],
   "source": [
    "name=input(\"Enter Your Name\")\n",
    "age=int(input(\"Enter your Age\"))\n",
    "profession=input(\"enter your Profession\")"
   ]
  },
  {
   "cell_type": "markdown",
   "id": "2dab1e18-524c-496f-980d-d748afb61edd",
   "metadata": {},
   "source": [
    "-Your Name-\n",
    "-Your Age-\n",
    "-Your Profession-"
   ]
  },
  {
   "cell_type": "code",
   "execution_count": 15,
   "id": "afdcead0-7fcf-48e0-968f-ff70bbf2280f",
   "metadata": {},
   "outputs": [
    {
     "name": "stdout",
     "output_type": "stream",
     "text": [
      "1\n",
      "Welcome\n",
      "2\n",
      "Hope\n"
     ]
    }
   ],
   "source": [
    "tup=(1, 'Welcome', 2, 'Hope')\n",
    "for i in tup:\n",
    "    print(i)"
   ]
  },
  {
   "cell_type": "code",
   "execution_count": 2,
   "id": "4a4684e3-ef63-48c6-92b3-b50c7cdbeded",
   "metadata": {},
   "outputs": [
    {
     "name": "stdout",
     "output_type": "stream",
     "text": [
      "(0, 1, 2, 3, 'python', 'HOPE')\n"
     ]
    }
   ],
   "source": [
    "tuple1=(0,1,2,3)\n",
    "tuple2=('python', 'HOPE')\n",
    "tuple3=tuple1+tuple2\n",
    "print (tuple3)"
   ]
  },
  {
   "cell_type": "code",
   "execution_count": 26,
   "id": "ebe12ce2-2ca3-4726-a24e-d5a0e3c0cfc5",
   "metadata": {},
   "outputs": [
    {
     "name": "stdout",
     "output_type": "stream",
     "text": [
      "20 is even\n",
      "10 is even\n",
      "16 is even\n",
      "19 is odd\n",
      "25 is odd\n",
      "1 is odd\n",
      "276 is even\n",
      "188 is even\n"
     ]
    }
   ],
   "source": [
    "list1=[20,10,16,19,25,1,276,188]\n",
    "for i in list1:\n",
    "    if i%2==0:\n",
    "        print(i,\"is even\")\n",
    "    else:\n",
    "        print(i,\"is odd\")"
   ]
  },
  {
   "cell_type": "code",
   "execution_count": 27,
   "id": "6b53cbcd-6ea2-46ea-aa52-016834321165",
   "metadata": {},
   "outputs": [
    {
     "name": "stdout",
     "output_type": "stream",
     "text": [
      "20 is even\n",
      "10 is even\n",
      "16 is even\n",
      "19 is odd\n",
      "25 is odd\n",
      "1 is odd\n",
      "276 is even\n",
      "188 is even\n"
     ]
    }
   ],
   "source": [
    "list2=[20,10,16,19,25,1,276,188]\n",
    "for i in list2:\n",
    "    if i%2==1:\n",
    "        print(i,\"is odd\")\n",
    "    else:\n",
    "        print(i,\"is even\")"
   ]
  },
  {
   "cell_type": "code",
   "execution_count": null,
   "id": "b297d824-a23d-4da3-afaf-8b28f8d55fb0",
   "metadata": {},
   "outputs": [],
   "source": []
  }
 ],
 "metadata": {
  "kernelspec": {
   "display_name": "Python 3 (ipykernel)",
   "language": "python",
   "name": "python3"
  },
  "language_info": {
   "codemirror_mode": {
    "name": "ipython",
    "version": 3
   },
   "file_extension": ".py",
   "mimetype": "text/x-python",
   "name": "python",
   "nbconvert_exporter": "python",
   "pygments_lexer": "ipython3",
   "version": "3.11.10"
  }
 },
 "nbformat": 4,
 "nbformat_minor": 5
}
