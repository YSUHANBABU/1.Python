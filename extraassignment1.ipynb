{
 "cells": [
  {
   "cell_type": "code",
   "execution_count": 1,
   "id": "97e77c57-a615-4c3d-ad7f-2a2aeb0f6110",
   "metadata": {},
   "outputs": [
    {
     "name": "stdout",
     "output_type": "stream",
     "text": [
      "HOPE AI\n"
     ]
    }
   ],
   "source": [
    "print(\"HOPE AI\")"
   ]
  },
  {
   "cell_type": "code",
   "execution_count": 3,
   "id": "d14c6cb2-a599-4ff8-b050-a3674a46135c",
   "metadata": {},
   "outputs": [
    {
     "name": "stdin",
     "output_type": "stream",
     "text": [
      "Enter your institute name? Hope AI\n"
     ]
    },
    {
     "name": "stdout",
     "output_type": "stream",
     "text": [
      "Hope AI\n"
     ]
    }
   ],
   "source": [
    "Institutename=input(\"Enter your institute name?\")\n",
    "print(Institutename)"
   ]
  },
  {
   "cell_type": "code",
   "execution_count": 6,
   "id": "2702effb-cfdc-4458-9415-d543ada1fa11",
   "metadata": {},
   "outputs": [
    {
     "name": "stdin",
     "output_type": "stream",
     "text": [
      "Enter your name: fgfdg\n",
      "Enter your age:  45\n",
      "Enter your school name:  454\n",
      "Enter your drgree: 4545\n"
     ]
    }
   ],
   "source": [
    "name=input(\"Enter your name:\")\n",
    "age=int(input(\"Enter your age: \"))\n",
    "schoolname=input(\"Enter your school name: \")\n",
    "degree=input(\"Enter your drgree:\")"
   ]
  },
  {
   "cell_type": "code",
   "execution_count": 7,
   "id": "19a41ef2-a166-4305-9b69-2f3ea404e13d",
   "metadata": {},
   "outputs": [
    {
     "name": "stdout",
     "output_type": "stream",
     "text": [
      "77\n"
     ]
    }
   ],
   "source": [
    "a= 43\n",
    "b= 34\n",
    "add = a+b\n",
    "print(add)"
   ]
  },
  {
   "cell_type": "code",
   "execution_count": 8,
   "id": "058b4cd8-74cf-4bbe-ae9a-fb1d02897264",
   "metadata": {},
   "outputs": [
    {
     "name": "stdout",
     "output_type": "stream",
     "text": [
      "9\n"
     ]
    }
   ],
   "source": [
    "a= 43\n",
    "b= 34\n",
    "Sub = a-b\n",
    "print(Sub)"
   ]
  },
  {
   "cell_type": "code",
   "execution_count": 9,
   "id": "15507ff9-9914-4d6a-a988-5d9327256bc6",
   "metadata": {},
   "outputs": [
    {
     "name": "stdout",
     "output_type": "stream",
     "text": [
      "6111\n"
     ]
    }
   ],
   "source": [
    "a= 63\n",
    "b= 97\n",
    "Mul = a*b\n",
    "print(Mul)"
   ]
  },
  {
   "cell_type": "code",
   "execution_count": 10,
   "id": "7b589e27-3997-4756-898c-ebaf98aa2a7f",
   "metadata": {},
   "outputs": [
    {
     "name": "stdout",
     "output_type": "stream",
     "text": [
      "2.4516129032258065\n"
     ]
    }
   ],
   "source": [
    "a= 76\n",
    "b= 31\n",
    "FloatDiv = a/b\n",
    "print(FloatDiv)\n"
   ]
  },
  {
   "cell_type": "code",
   "execution_count": 11,
   "id": "d441a651-278f-41a1-85d4-ea3e409d700d",
   "metadata": {},
   "outputs": [
    {
     "name": "stdout",
     "output_type": "stream",
     "text": [
      "2\n"
     ]
    }
   ],
   "source": [
    "a= 76\n",
    "b= 31\n",
    "FloorDiv = a//b # // floor division\n",
    "print(FloorDiv)"
   ]
  },
  {
   "cell_type": "code",
   "execution_count": 12,
   "id": "88ceab5d-04a0-4057-841d-b1df41572a67",
   "metadata": {},
   "outputs": [
    {
     "name": "stdout",
     "output_type": "stream",
     "text": [
      "14\n"
     ]
    }
   ],
   "source": [
    "a= 76\n",
    "b= 31\n",
    "Modulo = a%b\n",
    "print(Modulo)"
   ]
  },
  {
   "cell_type": "code",
   "execution_count": 13,
   "id": "4ef1174d-e63e-4743-b365-f7f8755c976a",
   "metadata": {},
   "outputs": [
    {
     "name": "stdout",
     "output_type": "stream",
     "text": [
      "256\n"
     ]
    }
   ],
   "source": [
    "a= 4\n",
    "b= 4\n",
    "Power = a**b\n",
    "print(Power)"
   ]
  },
  {
   "cell_type": "code",
   "execution_count": null,
   "id": "f3099ee7-0b4c-4588-b513-34560cf61e9d",
   "metadata": {},
   "outputs": [],
   "source": []
  }
 ],
 "metadata": {
  "kernelspec": {
   "display_name": "Python 3 (ipykernel)",
   "language": "python",
   "name": "python3"
  },
  "language_info": {
   "codemirror_mode": {
    "name": "ipython",
    "version": 3
   },
   "file_extension": ".py",
   "mimetype": "text/x-python",
   "name": "python",
   "nbconvert_exporter": "python",
   "pygments_lexer": "ipython3",
   "version": "3.11.10"
  }
 },
 "nbformat": 4,
 "nbformat_minor": 5
}
