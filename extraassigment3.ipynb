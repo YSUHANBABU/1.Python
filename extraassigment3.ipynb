{
 "cells": [
  {
   "cell_type": "code",
   "execution_count": 1,
   "id": "2a90dd3d-05d2-4b62-9499-1980ca340894",
   "metadata": {},
   "outputs": [],
   "source": [
    "# print 'CORRECT' if i == 10"
   ]
  },
  {
   "cell_type": "code",
   "execution_count": 5,
   "id": "4311bed3-ba32-4db2-9ed3-8e62c6cbc377",
   "metadata": {},
   "outputs": [
    {
     "name": "stdin",
     "output_type": "stream",
     "text": [
      "Enter the number 10\n"
     ]
    },
    {
     "name": "stdout",
     "output_type": "stream",
     "text": [
      "correct\n"
     ]
    }
   ],
   "source": [
    "i=int(input(\"Enter the number\"))\n",
    "if i==10:\n",
    "    print(\"correct\")\n",
    "else:\n",
    "    print(\"incorrect\")"
   ]
  },
  {
   "cell_type": "code",
   "execution_count": 6,
   "id": "46480252-3a28-429c-86d2-3efdf131486e",
   "metadata": {},
   "outputs": [],
   "source": [
    "#Enter the password: HOPE@123\n",
    "# Your password is correct"
   ]
  },
  {
   "cell_type": "code",
   "execution_count": 10,
   "id": "a4076160-7ea1-41e8-a2a4-9c4324ca4aa1",
   "metadata": {},
   "outputs": [
    {
     "name": "stdin",
     "output_type": "stream",
     "text": [
      "Enter the password HOPE@123\n"
     ]
    },
    {
     "name": "stdout",
     "output_type": "stream",
     "text": [
      "password is correct\n"
     ]
    }
   ],
   "source": [
    "password=input(\"Enter the password\")\n",
    "if password==\"HOPE@123\":\n",
    "    print(\"password is correct\")\n",
    "else:\n",
    "    print(\"password is incorrect\")"
   ]
  },
  {
   "cell_type": "code",
   "execution_count": 11,
   "id": "ce374291-5b68-4544-8d22-fdc6dc32e320",
   "metadata": {},
   "outputs": [],
   "source": [
    "# Catagory the people by their age like children, adult, citizen, senior citizen..."
   ]
  },
  {
   "cell_type": "code",
   "execution_count": 13,
   "id": "fe4a4f8c-5c9f-45fc-8cb4-be16bdcfce99",
   "metadata": {},
   "outputs": [
    {
     "name": "stdin",
     "output_type": "stream",
     "text": [
      "Enter the age 75\n"
     ]
    },
    {
     "name": "stdout",
     "output_type": "stream",
     "text": [
      "Senior Citizen\n"
     ]
    }
   ],
   "source": [
    "age=int(input(\"Enter the age\"))\n",
    "if age<18:\n",
    "    print(\"minor\")\n",
    "elif age<45:\n",
    "    print(\"adlt\")\n",
    "elif age<60:\n",
    "    print(\"citizen\")\n",
    "else:\n",
    "    print(\"Senior Citizen\")"
   ]
  },
  {
   "cell_type": "code",
   "execution_count": 14,
   "id": "18c3b5ea-8466-4062-8084-87c5933f7f0c",
   "metadata": {},
   "outputs": [
    {
     "name": "stdin",
     "output_type": "stream",
     "text": [
      "Enter the number  -10\n"
     ]
    },
    {
     "name": "stdout",
     "output_type": "stream",
     "text": [
      "number is negative\n"
     ]
    }
   ],
   "source": [
    "# Find whether given number is positive or negative\n",
    "num=int(input(\"Enter the number \"))\n",
    "if num>0:\n",
    "    print(\"number is possitive\")\n",
    "else:\n",
    "    print(\"number is negative\")"
   ]
  },
  {
   "cell_type": "code",
   "execution_count": 16,
   "id": "1cfd009c-286d-43dc-b5f4-c6f11b9bcebc",
   "metadata": {},
   "outputs": [
    {
     "name": "stdin",
     "output_type": "stream",
     "text": [
      "Enter the number  18\n"
     ]
    },
    {
     "name": "stdout",
     "output_type": "stream",
     "text": [
      "18 num is not devisible by five\n"
     ]
    }
   ],
   "source": [
    "# Check whether the given number is divisible by 5\n",
    "num=int(input(\"Enter the number \"))\n",
    "if num/5==0:\n",
    "    print(num,\"num is devisible by five\")\n",
    "else:\n",
    "    print(num,\"num is not devisible by five\")"
   ]
  },
  {
   "cell_type": "code",
   "execution_count": null,
   "id": "2b8af922-5ede-4989-bdcf-13c7a4704688",
   "metadata": {},
   "outputs": [],
   "source": []
  }
 ],
 "metadata": {
  "kernelspec": {
   "display_name": "Python 3 (ipykernel)",
   "language": "python",
   "name": "python3"
  },
  "language_info": {
   "codemirror_mode": {
    "name": "ipython",
    "version": 3
   },
   "file_extension": ".py",
   "mimetype": "text/x-python",
   "name": "python",
   "nbconvert_exporter": "python",
   "pygments_lexer": "ipython3",
   "version": "3.11.10"
  }
 },
 "nbformat": 4,
 "nbformat_minor": 5
}
